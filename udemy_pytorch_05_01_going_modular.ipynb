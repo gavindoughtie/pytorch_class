{
  "nbformat": 4,
  "nbformat_minor": 0,
  "metadata": {
    "colab": {
      "provenance": [],
      "authorship_tag": "ABX9TyNxJXtWVBKGFBTHxFtp2uYk",
      "include_colab_link": true
    },
    "kernelspec": {
      "name": "python3",
      "display_name": "Python 3"
    },
    "language_info": {
      "name": "python"
    }
  },
  "cells": [
    {
      "cell_type": "markdown",
      "metadata": {
        "id": "view-in-github",
        "colab_type": "text"
      },
      "source": [
        "<a href=\"https://colab.research.google.com/github/gavindoughtie/pytorch_class/blob/main/udemy_pytorch_05_01_going_modular.ipynb\" target=\"_parent\"><img src=\"https://colab.research.google.com/assets/colab-badge.svg\" alt=\"Open In Colab\"/></a>"
      ]
    },
    {
      "cell_type": "markdown",
      "source": [
        "\n",
        "* book - https://www.learnpytorch.io/05_pytorch_going_modular/\n",
        "\n",
        "* Part 1 - cell mode\n",
        "* Part 2 - production code"
      ],
      "metadata": {
        "id": "XXGQw8yumm9B"
      }
    }
  ]
}