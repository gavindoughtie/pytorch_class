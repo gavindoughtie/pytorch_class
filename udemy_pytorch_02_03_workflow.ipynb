{
  "nbformat": 4,
  "nbformat_minor": 0,
  "metadata": {
    "colab": {
      "provenance": [],
      "mount_file_id": "1R4GrkfDgWZWFzZfICME_oh6So1EeyV6k",
      "authorship_tag": "ABX9TyPgxtfSzYALQcJDdwrfokqK",
      "include_colab_link": true
    },
    "kernelspec": {
      "name": "python3",
      "display_name": "Python 3"
    },
    "language_info": {
      "name": "python"
    },
    "accelerator": "GPU",
    "gpuClass": "standard"
  },
  "cells": [
    {
      "cell_type": "markdown",
      "metadata": {
        "id": "view-in-github",
        "colab_type": "text"
      },
      "source": [
        "<a href=\"https://colab.research.google.com/github/gavindoughtie/pytorch_class/blob/main/udemy_pytorch_02_03_workflow.ipynb\" target=\"_parent\"><img src=\"https://colab.research.google.com/assets/colab-badge.svg\" alt=\"Open In Colab\"/></a>"
      ]
    },
    {
      "cell_type": "markdown",
      "source": [
        "# PyTorch Workflow\n",
        "\n",
        "\n",
        "Let's explort an example PyTorch end-to-end workflow\n",
        "\n",
        "Resources:\n",
        "\n",
        "* Gradient Descent - https://youtu.be/IHZwWFHWa-w\n",
        "* Backpropagation - https://youtu.be/Ilg3gGewQ5U\n",
        "* Ground truth notebook - https://github.com/mrdbourke/pytorch-deep-learning/blob/main/01_pytorch_workflow.ipynb\n",
        "* book version of notebook - https://www.learnpytorch.io/01_pytorch_workflow/\n",
        "* ask a question - https://github.com/mrdbourke/pytorch-deep-learning/discussions"
      ],
      "metadata": {
        "id": "AiRGI-CSbQ1Y"
      }
    },
    {
      "cell_type": "code",
      "source": [
        "what_were_covering = {1: 'data (prepare and load', 2: 'build model', 3: 'fitting the model to the data (training)',\n",
        "                      4: 'making predictions and evaluating a model (inference)', 5: 'saving and loading a model', 6: 'putting it all together'}"
      ],
      "metadata": {
        "id": "ftBFhEp7bs32"
      },
      "execution_count": null,
      "outputs": []
    },
    {
      "cell_type": "code",
      "source": [
        "what_were_covering"
      ],
      "metadata": {
        "colab": {
          "base_uri": "https://localhost:8080/"
        },
        "id": "g9vZtCTddCcF",
        "outputId": "3246e2fd-c3d8-467c-938b-2cb6afea859c"
      },
      "execution_count": null,
      "outputs": [
        {
          "output_type": "execute_result",
          "data": {
            "text/plain": [
              "{1: 'data (prepare and load',\n",
              " 2: 'build model',\n",
              " 3: 'fitting the model to the data (training)',\n",
              " 4: 'making predictions and evaluating a model (inference)',\n",
              " 5: 'saving and loading a model',\n",
              " 6: 'putting it all together'}"
            ]
          },
          "metadata": {},
          "execution_count": 528
        }
      ]
    },
    {
      "cell_type": "code",
      "source": [
        "import torch\n",
        "from torch import nn # nn contains all of PyTorch's building blocks for neural networks\n",
        "import matplotlib.pyplot as plt\n",
        "\n",
        "# Check PyTorch version\n",
        "torch.__version__"
      ],
      "metadata": {
        "colab": {
          "base_uri": "https://localhost:8080/",
          "height": 35
        },
        "id": "2P4DRpv6dL3j",
        "outputId": "9846ab4d-f8b0-46e9-8b3f-038db4e80cbf"
      },
      "execution_count": null,
      "outputs": [
        {
          "output_type": "execute_result",
          "data": {
            "text/plain": [
              "'1.13.0+cu116'"
            ],
            "application/vnd.google.colaboratory.intrinsic+json": {
              "type": "string"
            }
          },
          "metadata": {},
          "execution_count": 529
        }
      ]
    },
    {
      "cell_type": "markdown",
      "source": [
        "## 1. Data (preparing and loading)\n",
        "\n",
        "Data can be almost anything... in machine learning.\n",
        "\n",
        "* Excel spreadsheet\n",
        "* Images of any kind\n",
        "* Videos (YouTube has lots of data...)\n",
        "* Audio like songs or podcasts\n",
        "* DNA\n",
        "* Text\n",
        "\n",
        "Machine learning is a game of two parts:\n",
        "\n",
        "1. Get data into a numerical representation.\n",
        "2. Build a model to learn patterns in that numerical representation.\n",
        "\n",
        "To showcase this, let's create some *known* data using the linear regression formula.\n",
        "\n",
        "The formula for simple linear regression is Y = mX + b, where Y is the response (dependent) variable, X is the predictor (independent) variable, m is the estimated slope, and b is the estimated intercept.\n",
        "\n",
        "We'll use a linear regression formula to make a straight line with *known* **parameters**."
      ],
      "metadata": {
        "id": "UJqTgUeVdpfb"
      }
    },
    {
      "cell_type": "code",
      "source": [
        "# Create *known* parameters\n",
        "weight = 0.7\n",
        "bias = 0.3\n",
        "\n",
        "# Create\n",
        "start = 0\n",
        "end = 1\n",
        "step = 0.02\n",
        "X = torch.arange(start, end, step).unsqueeze(dim=1)\n",
        "y = weight * X + bias\n",
        "\n",
        "X[:10], y[:10]"
      ],
      "metadata": {
        "colab": {
          "base_uri": "https://localhost:8080/"
        },
        "id": "N1uB2ZkreFJS",
        "outputId": "d6255d74-1750-4935-fa42-0ca546559b3c"
      },
      "execution_count": null,
      "outputs": [
        {
          "output_type": "execute_result",
          "data": {
            "text/plain": [
              "(tensor([[0.0000],\n",
              "         [0.0200],\n",
              "         [0.0400],\n",
              "         [0.0600],\n",
              "         [0.0800],\n",
              "         [0.1000],\n",
              "         [0.1200],\n",
              "         [0.1400],\n",
              "         [0.1600],\n",
              "         [0.1800]]), tensor([[0.3000],\n",
              "         [0.3140],\n",
              "         [0.3280],\n",
              "         [0.3420],\n",
              "         [0.3560],\n",
              "         [0.3700],\n",
              "         [0.3840],\n",
              "         [0.3980],\n",
              "         [0.4120],\n",
              "         [0.4260]]))"
            ]
          },
          "metadata": {},
          "execution_count": 530
        }
      ]
    },
    {
      "cell_type": "code",
      "source": [
        "len(X), len(y)"
      ],
      "metadata": {
        "colab": {
          "base_uri": "https://localhost:8080/"
        },
        "id": "I4OYD47VfqGi",
        "outputId": "5c846f45-68b9-49f7-91c4-e4ceea34481e"
      },
      "execution_count": null,
      "outputs": [
        {
          "output_type": "execute_result",
          "data": {
            "text/plain": [
              "(50, 50)"
            ]
          },
          "metadata": {},
          "execution_count": 531
        }
      ]
    },
    {
      "cell_type": "markdown",
      "source": [
        "### Splitting data into training and test sets (one of the most important concepts in machine learning in general)\n",
        "\n",
        "* training set (train the model)\n",
        "  a. 60-80% of data\n",
        "* validation set (tune the model)\n",
        "  a. 10% but not always\n",
        "* test set (make sure the model has generalized)"
      ],
      "metadata": {
        "id": "5M6skVc1fwnW"
      }
    },
    {
      "cell_type": "code",
      "source": [
        "# Create a train/test split\n",
        "train_split = int(0.8 * len(X))\n",
        "X_train, y_train = X[:train_split], y[:train_split]\n",
        "X_test, y_test = X[train_split:], y[train_split:]\n",
        "# scikit learn has a util for splitting\n",
        "len(X_train), len(y_train), len(X_test), len(y_test)"
      ],
      "metadata": {
        "colab": {
          "base_uri": "https://localhost:8080/"
        },
        "id": "NqInlTyDhUOU",
        "outputId": "211d04aa-fffe-4149-f796-cf83eef88767"
      },
      "execution_count": null,
      "outputs": [
        {
          "output_type": "execute_result",
          "data": {
            "text/plain": [
              "(40, 40, 10, 10)"
            ]
          },
          "metadata": {},
          "execution_count": 532
        }
      ]
    },
    {
      "cell_type": "markdown",
      "source": [
        "How might we better visualize our data?\n",
        "\n",
        "This is where the data explorer's mootto comes in.\n",
        "\n",
        "\"Visualize visualize visualize!\""
      ],
      "metadata": {
        "id": "AuUB-ycehgHl"
      }
    },
    {
      "cell_type": "code",
      "source": [
        "def plot_predictions(train_data=X_train, \n",
        "                     train_labels=y_train, \n",
        "                     test_data=X_test, \n",
        "                     test_labels=y_test, \n",
        "                     predictions=None):\n",
        "  \"\"\"\n",
        "  Plots training data, test data and compares predictions\n",
        "  \"\"\"\n",
        "  plt.figure(figsize=(10, 7))\n",
        "\n",
        "  #plot training data in blue\n",
        "  plt.scatter(train_data, \n",
        "              train_labels, \n",
        "              c=\"b\", \n",
        "              s=4, \n",
        "              label=\"Training data\")\n",
        "  \n",
        "  # Plot test data in green\n",
        "  plt.scatter(test_data,\n",
        "              test_labels,\n",
        "              c=\"g\",\n",
        "              s=4,\n",
        "              label=\"Testing data\")\n",
        "  \n",
        "  # Are there predictions?\n",
        "  if predictions is not None:\n",
        "    # Plot the predictions if they exist\n",
        "    plt.scatter(test_data,\n",
        "                predictions,\n",
        "                c=\"r\",\n",
        "                s=4,\n",
        "                label=\"Predictions\")\n",
        "    \n",
        "  # Show the legend\n",
        "  plt.legend(prop={\"size\": 14})\n"
      ],
      "metadata": {
        "id": "i2p3tKlRjEjx"
      },
      "execution_count": null,
      "outputs": []
    },
    {
      "cell_type": "code",
      "source": [
        "plot_predictions()"
      ],
      "metadata": {
        "colab": {
          "base_uri": "https://localhost:8080/",
          "height": 428
        },
        "id": "0ayIRgEhjjjG",
        "outputId": "e9bd5655-99d6-4292-9477-87e1bbf61b41"
      },
      "execution_count": null,
      "outputs": [
        {
          "output_type": "display_data",
          "data": {
            "text/plain": [
              "<Figure size 720x504 with 1 Axes>"
            ],
            "image/png": "[encoded data removed]"
          },
          "metadata": {
            "needs_background": "light"
          }
        }
      ]
    },
    {
      "cell_type": "markdown",
      "source": [
        "from torch._C import PyTorchFileReader\n",
        "## 2. Building our first model\n",
        "\n",
        "Our first PyTorch model!\n",
        "\n",
        "What our model does:\n",
        "* Start with random values (weight & bias)\n",
        "* Look at training data and adjust the random values to better represent the ideal values (the weight and bias values we used to create the data)\n",
        "\n",
        "How?\n",
        "\n",
        "Through two main algorithms:\n",
        "\n",
        "1. Gradient descent\n",
        "2. Backpropagation"
      ],
      "metadata": {
        "id": "4VtuRvd4kOvh"
      }
    },
    {
      "cell_type": "code",
      "source": [
        "# Create a linear regression model class\n",
        "from torch import nn\n",
        "\n",
        "class LinearRegressionModel(nn.Module): # <- almost everything in PyTorch inherits from nn.Module\n",
        "  def __init__(self):\n",
        "    super().__init__()\n",
        "    self.weights = nn.Parameter(\n",
        "        torch.randn(\n",
        "            1,\n",
        "            requires_grad=True, # default\n",
        "            dtype=torch.float)) # default\n",
        "\n",
        "    self.bias = nn.Parameter(\n",
        "        torch.randn(\n",
        "            1, \n",
        "            requires_grad=True,\n",
        "            dtype=torch.float))\n",
        "  \n",
        "  def forward(self, x: torch.Tensor) -> torch.Tensor: # <- x is the input data\n",
        "    return self.weights * x + self.bias # linear regression formula\n",
        "  "
      ],
      "metadata": {
        "id": "w6XqlyE9-bis"
      },
      "execution_count": null,
      "outputs": []
    },
    {
      "cell_type": "markdown",
      "source": [
        "### PyTorch model building essentials\n",
        "\n",
        "See [The PyTorch Cheat Sheet](https://pytorch.org/tutorials/beginner/ptcheat.html)\n",
        "\n",
        "* torch.nn - contains all the building blocks for computational graphs (a neural network can be considered a computational graph)\n",
        "* torch.nn.Parameter - what parameters should our model try to learn; often a PyTorch layer from torch.nn will set these for us.\n",
        "* torch.nn.Module - The base class for all neural network modules; full of useful stuff. If you subclass it you must override `forward`.\n",
        "* torch.optim - this is where the optimizers live. They will help with gradient descent.\n",
        "* `def forward()` - All nn.Module subclasses require you to override forward. Defines what happens in the forward computation.\n",
        "* torch.utils.Dataset - Represents a map between key (label) and sample (features) pairs of your data such as images and their associated labels.\n",
        "* torch.utils.data.DataLoader - Creates a Python iterable over a torch Dataset (allows you to iterate over your data)."
      ],
      "metadata": {
        "id": "JqdhLitEAQKu"
      }
    },
    {
      "cell_type": "markdown",
      "source": [
        "### Checking the contents of the PyTorch model\n",
        "\n",
        "Now that we've created the model, what's inside?\n",
        "\n",
        "We can check out our model parameters using `.parameters()`."
      ],
      "metadata": {
        "id": "U1l1P_VTD1Bv"
      }
    },
    {
      "cell_type": "code",
      "source": [
        "# Create a random seed\n",
        "torch.manual_seed(42)\n",
        "\n",
        "# Create an instance of the model (a subclass of nn.Module)\n",
        "\n",
        "model_0 = LinearRegressionModel()\n",
        "\n",
        "# check out the parameters.\n",
        "list(model_0.parameters())"
      ],
      "metadata": {
        "colab": {
          "base_uri": "https://localhost:8080/"
        },
        "id": "jjAU3KtqRPAz",
        "outputId": "2ac57bc7-2c0d-4118-bcbf-d2c75b8276be"
      },
      "execution_count": null,
      "outputs": [
        {
          "output_type": "execute_result",
          "data": {
            "text/plain": [
              "[Parameter containing:\n",
              " tensor([0.3367], requires_grad=True), Parameter containing:\n",
              " tensor([0.1288], requires_grad=True)]"
            ]
          },
          "metadata": {},
          "execution_count": 536
        }
      ]
    },
    {
      "cell_type": "code",
      "source": [
        "# List named parameters\n",
        "model_0.state_dict()"
      ],
      "metadata": {
        "colab": {
          "base_uri": "https://localhost:8080/"
        },
        "id": "ajzSNANDRefv",
        "outputId": "0eb47a53-141a-48a7-bbaf-1c5f80ed95ba"
      },
      "execution_count": null,
      "outputs": [
        {
          "output_type": "execute_result",
          "data": {
            "text/plain": [
              "OrderedDict([('weights', tensor([0.3367])), ('bias', tensor([0.1288]))])"
            ]
          },
          "metadata": {},
          "execution_count": 537
        }
      ]
    },
    {
      "cell_type": "code",
      "source": [
        "weight, bias"
      ],
      "metadata": {
        "colab": {
          "base_uri": "https://localhost:8080/"
        },
        "id": "Xv712lb7Wm1i",
        "outputId": "c40e712f-9b44-4f78-a365-29af87a6cd53"
      },
      "execution_count": null,
      "outputs": [
        {
          "output_type": "execute_result",
          "data": {
            "text/plain": [
              "(0.7, 0.3)"
            ]
          },
          "metadata": {},
          "execution_count": 538
        }
      ]
    },
    {
      "cell_type": "markdown",
      "source": [
        "### Making prediction using `torch.inference_mode()`\n",
        "\n",
        "To check our model's predictive power, let's see how well it predicts `y_test` based on `X_test`.\n",
        "\n",
        "When we pass data through our model, it's going to run it through the `forward()` method."
      ],
      "metadata": {
        "id": "REtHPGvBWtGI"
      }
    },
    {
      "cell_type": "code",
      "source": [
        "# basic predctions:\n",
        "y_preds = model_0(X_test)\n",
        "y_preds"
      ],
      "metadata": {
        "colab": {
          "base_uri": "https://localhost:8080/"
        },
        "id": "ELxvDsYbYOHo",
        "outputId": "f5828d63-5956-4cb6-dc2a-1f38ad980cc5"
      },
      "execution_count": null,
      "outputs": [
        {
          "output_type": "execute_result",
          "data": {
            "text/plain": [
              "tensor([[0.3982],\n",
              "        [0.4049],\n",
              "        [0.4116],\n",
              "        [0.4184],\n",
              "        [0.4251],\n",
              "        [0.4318],\n",
              "        [0.4386],\n",
              "        [0.4453],\n",
              "        [0.4520],\n",
              "        [0.4588]], grad_fn=<AddBackward0>)"
            ]
          },
          "metadata": {},
          "execution_count": 539
        }
      ]
    },
    {
      "cell_type": "code",
      "source": [
        "# Make predictions with model\n",
        "with torch.inference_mode(): # turns off gradient tracking (faster), which we don't need for inferencing\n",
        "  y_preds = model_0(X_test)\n",
        "\n",
        "with torch.no_grad(): # also turns off gradient tracking, but prefer with inference_mode()\n",
        "  y_preds_no_grad = model_0(X_test)\n",
        "\n",
        "# if the model works, it should make these sets the same:\n",
        "# y_preds, y_test\n",
        "\n",
        "y_preds, y_preds_no_grad"
      ],
      "metadata": {
        "colab": {
          "base_uri": "https://localhost:8080/"
        },
        "id": "fyT-UrS_XHuP",
        "outputId": "b790680f-6458-480d-b68c-5e8f6ecfa55b"
      },
      "execution_count": null,
      "outputs": [
        {
          "output_type": "execute_result",
          "data": {
            "text/plain": [
              "(tensor([[0.3982],\n",
              "         [0.4049],\n",
              "         [0.4116],\n",
              "         [0.4184],\n",
              "         [0.4251],\n",
              "         [0.4318],\n",
              "         [0.4386],\n",
              "         [0.4453],\n",
              "         [0.4520],\n",
              "         [0.4588]]), tensor([[0.3982],\n",
              "         [0.4049],\n",
              "         [0.4116],\n",
              "         [0.4184],\n",
              "         [0.4251],\n",
              "         [0.4318],\n",
              "         [0.4386],\n",
              "         [0.4453],\n",
              "         [0.4520],\n",
              "         [0.4588]]))"
            ]
          },
          "metadata": {},
          "execution_count": 540
        }
      ]
    },
    {
      "cell_type": "code",
      "source": [
        "plot_predictions(predictions=y_preds)"
      ],
      "metadata": {
        "colab": {
          "base_uri": "https://localhost:8080/",
          "height": 428
        },
        "id": "Q6gI0AggXO1h",
        "outputId": "716bcc5a-e9ed-4d98-d712-14f1cecc391c"
      },
      "execution_count": null,
      "outputs": [
        {
          "output_type": "display_data",
          "data": {
            "text/plain": [
              "<Figure size 720x504 with 1 Axes>"
            ],
            "image/png": "[encoded data removed]"
          },
          "metadata": {
            "needs_background": "light"
          }
        }
      ]
    },
    {
      "cell_type": "markdown",
      "source": [
        "## 3. Train model\n",
        "\n",
        "The whole idea of training is for a model to move from some *unknown* parameters (these may be random) to known parameters.and\n",
        "\n",
        "Or in other words, from a poor representation of the data to a better representation of the data.\n",
        "\n",
        "One way to measure how wrong the predictions are, is to use a loss function.\n",
        "\n",
        "* Note: Loss function may also be called cost function or criterion in different areas.\n",
        "\n",
        "Things we need to train:\n",
        "\n",
        "* **Loss Function:** A function to measure how wrong your model's predictions are to the ideal outputs. Lower is better. \n",
        "* https://pytorch.org/docs/stable/nn.html#loss-functions\n",
        "* **Optimizer:** Takes into account the loss of a model and adjusts the model's parameters (e.g. weight and bias in our case) to improve the loss function.\n",
        "* https://pytorch.org/docs/stable/optim.html\n",
        "\n",
        "And specifically for PyTorch, we need:\n",
        "* A training loop\n",
        "* A testing loop"
      ],
      "metadata": {
        "id": "VNIl5JhxX76b"
      }
    },
    {
      "cell_type": "code",
      "source": [
        "# list(model_0.parameters()) OR\n",
        "model_0.state_dict()"
      ],
      "metadata": {
        "colab": {
          "base_uri": "https://localhost:8080/"
        },
        "id": "5vkc4Oqsw9An",
        "outputId": "68f3a920-30c9-4f80-cb38-1ab2775f3d67"
      },
      "execution_count": null,
      "outputs": [
        {
          "output_type": "execute_result",
          "data": {
            "text/plain": [
              "OrderedDict([('weights', tensor([0.3367])), ('bias', tensor([0.1288]))])"
            ]
          },
          "metadata": {},
          "execution_count": 542
        }
      ]
    },
    {
      "cell_type": "code",
      "source": [
        "MAE_loss = torch.abs(torch.abs(y_preds - y_test))\n",
        "#MAE_loss2 = model_0.L1Loss()\n",
        "\n",
        "#MAE_loss, MAE_loss2\n",
        "\n",
        "# Setup a loss function\n",
        "loss_fn = nn.L1Loss()\n",
        "\n",
        "# Setup an optimizer (stochastic gradient descent)\n",
        "optimizer = torch.optim.SGD(model_0.parameters(),\n",
        "                            lr=0.01) # lr = learning rate"
      ],
      "metadata": {
        "id": "CJ1nlsvBx06X"
      },
      "execution_count": null,
      "outputs": []
    },
    {
      "cell_type": "markdown",
      "source": [
        "### Building a training loop (and a testing loop) in PyTorch\n",
        "\n",
        "A couple of things we need in a training loop:\n",
        "\n",
        "0. Loop through the data\n",
        "1. Forward pass to make predictions (this involves data moving through our model's `forward()` function - also called forward propagation.\n",
        "2. Calculate the loss (compare forward pass predictions to ground truth labels)\n",
        "3. Optimize zero grad\n",
        "4. Loss backward - move backwards through the network to calculate the gradients of each of the parameters of our model with respect to the loss  (**backpropagation**)\n",
        "5. Optimizer step - use the optimizer to adjust our model's parameters to try and improve the loss. (**gradient descent**)\n"
      ],
      "metadata": {
        "id": "DHcx9_oX0Bbz"
      }
    },
    {
      "cell_type": "code",
      "source": [
        "# An epoch is one loop through the data...\n",
        "epochs = 200 # a hyperparameter because we set it ourselves\n",
        "torch.manual_seed(42)\n",
        "\n",
        "# track values for tuning models later\n",
        "epoch_count = []\n",
        "loss_values = []\n",
        "test_loss_values = []\n",
        "\n",
        "\n",
        "### Training\n",
        "# 0. Loop through the data\n",
        "for epoch in range(epochs):\n",
        "  # set the model to training mode\n",
        "  # train mode in PyTorch sets all parameters that require gradients \n",
        "  # to require gradients\n",
        "  model_0.train()\n",
        "\n",
        "  # 1. Forward pass\n",
        "  y_pred = model_0(X_train)\n",
        "\n",
        "  # 2. Calculate loss\n",
        "  loss = loss_fn(y_pred, y_train)\n",
        "\n",
        "  # 3. Optimizer zero grad\n",
        "  optimizer.zero_grad()\n",
        "\n",
        "  # 4. Perform backpropagation on the loss with respect to the parameters of the model\n",
        "  loss.backward()\n",
        "\n",
        "  # 5. Step the optimizer (perform gradient descent)\n",
        "  optimizer.step()\n",
        "  # by default how the optimizer changes will accumulate through the loop so\n",
        "  # we have to zero them above in step 3 for the next iteration of the loop.\n",
        "\n",
        "  model_0.eval()  # turns off things like dropout; not needed for eval\n",
        "  with torch.inference_mode(): # turns off gradient tracking\n",
        "    # 1. Do the forward pass\n",
        "    test_pred = model_0(X_test)\n",
        "\n",
        "    # 2. Calculate the loss\n",
        "    test_loss = loss_fn(test_pred, y_test)\n",
        "  \n",
        "  if epoch % 10 == 0:\n",
        "    epoch_count.append(epoch)\n",
        "    loss_values.append(loss)\n",
        "    test_loss_values.append(test_loss)\n",
        "    print(f'Epoch: {epoch} | Loss: {loss} | Test Loss: {test_loss}')\n",
        "    print(f\"{model_0.state_dict()}\\nshould be getting close to\\n{weight, bias}\")"
      ],
      "metadata": {
        "id": "k9Wf-fmF6t68",
        "colab": {
          "base_uri": "https://localhost:8080/"
        },
        "outputId": "e66d93de-4293-4e7f-941c-af0838d7fda8"
      },
      "execution_count": null,
      "outputs": [
        {
          "output_type": "stream",
          "name": "stdout",
          "text": [
            "Epoch: 0 | Loss: 0.31288138031959534 | Test Loss: 0.48106518387794495\n",
            "OrderedDict([('weights', tensor([0.3406])), ('bias', tensor([0.1388]))])\n",
            "should be getting close to\n",
            "(0.7, 0.3)\n",
            "Epoch: 10 | Loss: 0.1976713240146637 | Test Loss: 0.3463551998138428\n",
            "OrderedDict([('weights', tensor([0.3796])), ('bias', tensor([0.2388]))])\n",
            "should be getting close to\n",
            "(0.7, 0.3)\n",
            "Epoch: 20 | Loss: 0.08908725529909134 | Test Loss: 0.21729660034179688\n",
            "OrderedDict([('weights', tensor([0.4184])), ('bias', tensor([0.3333]))])\n",
            "should be getting close to\n",
            "(0.7, 0.3)\n",
            "Epoch: 30 | Loss: 0.053148526698350906 | Test Loss: 0.14464017748832703\n",
            "OrderedDict([('weights', tensor([0.4512])), ('bias', tensor([0.3768]))])\n",
            "should be getting close to\n",
            "(0.7, 0.3)\n",
            "Epoch: 40 | Loss: 0.04543796554207802 | Test Loss: 0.11360953003168106\n",
            "OrderedDict([('weights', tensor([0.4748])), ('bias', tensor([0.3868]))])\n",
            "should be getting close to\n",
            "(0.7, 0.3)\n",
            "Epoch: 50 | Loss: 0.04167863354086876 | Test Loss: 0.09919948130846024\n",
            "OrderedDict([('weights', tensor([0.4938])), ('bias', tensor([0.3843]))])\n",
            "should be getting close to\n",
            "(0.7, 0.3)\n",
            "Epoch: 60 | Loss: 0.03818932920694351 | Test Loss: 0.08886633068323135\n",
            "OrderedDict([('weights', tensor([0.5116])), ('bias', tensor([0.3788]))])\n",
            "should be getting close to\n",
            "(0.7, 0.3)\n",
            "Epoch: 70 | Loss: 0.03476089984178543 | Test Loss: 0.0805937647819519\n",
            "OrderedDict([('weights', tensor([0.5288])), ('bias', tensor([0.3718]))])\n",
            "should be getting close to\n",
            "(0.7, 0.3)\n",
            "Epoch: 80 | Loss: 0.03132382780313492 | Test Loss: 0.07232122868299484\n",
            "OrderedDict([('weights', tensor([0.5459])), ('bias', tensor([0.3648]))])\n",
            "should be getting close to\n",
            "(0.7, 0.3)\n",
            "Epoch: 90 | Loss: 0.02788739837706089 | Test Loss: 0.06473556160926819\n",
            "OrderedDict([('weights', tensor([0.5629])), ('bias', tensor([0.3573]))])\n",
            "should be getting close to\n",
            "(0.7, 0.3)\n",
            "Epoch: 100 | Loss: 0.024458957836031914 | Test Loss: 0.05646304413676262\n",
            "OrderedDict([('weights', tensor([0.5800])), ('bias', tensor([0.3503]))])\n",
            "should be getting close to\n",
            "(0.7, 0.3)\n",
            "Epoch: 110 | Loss: 0.021020207554101944 | Test Loss: 0.04819049686193466\n",
            "OrderedDict([('weights', tensor([0.5972])), ('bias', tensor([0.3433]))])\n",
            "should be getting close to\n",
            "(0.7, 0.3)\n",
            "Epoch: 120 | Loss: 0.01758546568453312 | Test Loss: 0.04060482233762741\n",
            "OrderedDict([('weights', tensor([0.6141])), ('bias', tensor([0.3358]))])\n",
            "should be getting close to\n",
            "(0.7, 0.3)\n",
            "Epoch: 130 | Loss: 0.014155393466353416 | Test Loss: 0.03233227878808975\n",
            "OrderedDict([('weights', tensor([0.6313])), ('bias', tensor([0.3288]))])\n",
            "should be getting close to\n",
            "(0.7, 0.3)\n",
            "Epoch: 140 | Loss: 0.010716589167714119 | Test Loss: 0.024059748277068138\n",
            "OrderedDict([('weights', tensor([0.6485])), ('bias', tensor([0.3218]))])\n",
            "should be getting close to\n",
            "(0.7, 0.3)\n",
            "Epoch: 150 | Loss: 0.0072835334576666355 | Test Loss: 0.016474086791276932\n",
            "OrderedDict([('weights', tensor([0.6654])), ('bias', tensor([0.3143]))])\n",
            "should be getting close to\n",
            "(0.7, 0.3)\n",
            "Epoch: 160 | Loss: 0.0038517764769494534 | Test Loss: 0.008201557211577892\n",
            "OrderedDict([('weights', tensor([0.6826])), ('bias', tensor([0.3073]))])\n",
            "should be getting close to\n",
            "(0.7, 0.3)\n",
            "Epoch: 170 | Loss: 0.008932482451200485 | Test Loss: 0.005023092031478882\n",
            "OrderedDict([('weights', tensor([0.6951])), ('bias', tensor([0.2993]))])\n",
            "should be getting close to\n",
            "(0.7, 0.3)\n",
            "Epoch: 180 | Loss: 0.008932482451200485 | Test Loss: 0.005023092031478882\n",
            "OrderedDict([('weights', tensor([0.6951])), ('bias', tensor([0.2993]))])\n",
            "should be getting close to\n",
            "(0.7, 0.3)\n",
            "Epoch: 190 | Loss: 0.008932482451200485 | Test Loss: 0.005023092031478882\n",
            "OrderedDict([('weights', tensor([0.6951])), ('bias', tensor([0.2993]))])\n",
            "should be getting close to\n",
            "(0.7, 0.3)\n"
          ]
        }
      ]
    },
    {
      "cell_type": "markdown",
      "source": [
        "- *Learning rate scheduling*: reducing size of steps while performing gradient descent\n",
        "- *Convergence*: Bottom of the gradient curve"
      ],
      "metadata": {
        "id": "CF4BXr_NHCjz"
      }
    },
    {
      "cell_type": "code",
      "source": [
        "# Plot the loss curves\n",
        "import numpy as np\n",
        "plt.plot(epoch_count, np.array(torch.tensor(loss_values).numpy()), label=\"Train loss\")\n",
        "plt.plot(epoch_count, np.array(torch.tensor(test_loss_values).numpy()), label=\"Test loss\")\n",
        "plt.title(\"Training and test loss curves\")\n",
        "plt.ylabel(\"Loss\")\n",
        "plt.xlabel(\"epochs\")\n",
        "plt.legend()"
      ],
      "metadata": {
        "colab": {
          "base_uri": "https://localhost:8080/",
          "height": 312
        },
        "id": "5mv-okW1SL_i",
        "outputId": "92aca53c-1ce1-4b37-9bfb-c30799e6be71"
      },
      "execution_count": null,
      "outputs": [
        {
          "output_type": "execute_result",
          "data": {
            "text/plain": [
              "<matplotlib.legend.Legend at 0x7f14d1f03970>"
            ]
          },
          "metadata": {},
          "execution_count": 545
        },
        {
          "output_type": "display_data",
          "data": {
            "text/plain": [
              "<Figure size 432x288 with 1 Axes>"
            ],
            "image/png": "[encoded data removed]"
          },
          "metadata": {
            "needs_background": "light"
          }
        }
      ]
    },
    {
      "cell_type": "code",
      "source": [
        "with torch.inference_mode():\n",
        "  y_preds_new = model_0(X_test)\n",
        "plot_predictions(predictions=y_preds_new)"
      ],
      "metadata": {
        "colab": {
          "base_uri": "https://localhost:8080/",
          "height": 428
        },
        "id": "pVDKEFo_A1kt",
        "outputId": "262ab0c3-a485-4586-8e98-f6c9fd30ab47"
      },
      "execution_count": null,
      "outputs": [
        {
          "output_type": "display_data",
          "data": {
            "text/plain": [
              "<Figure size 720x504 with 1 Axes>"
            ],
            "image/png": "[encoded data removed]"
          },
          "metadata": {
            "needs_background": "light"
          }
        }
      ]
    },
    {
      "cell_type": "markdown",
      "source": [
        "## Saving a model in PyTorch\n",
        "\n",
        "There are three main methods you should know about for saving and loading models in PyTorch.\n",
        "\n",
        "1. `torch.save()` - allows you to save a PyTorch object in Python's pickle format.\n",
        "2. `torch.load()` - Load a saved PyTorch object\n",
        "3. `torch.nn.Module.load_state_dict()` - allows you to load a model's saved state dictionary.\n",
        "\n",
        "Typically you just save the state_dict which saves the learned parameters but you can also save the entire model. https://pytorch.org/tutorials/beginner/saving_loading_models.html"
      ],
      "metadata": {
        "id": "qRcf4c1tGXXV"
      }
    },
    {
      "cell_type": "code",
      "source": [
        "# Saving our PyTorch model\n",
        "from pathlib import Path\n",
        "from google.colab import drive\n",
        "import shutil\n",
        "from torch import nn\n",
        "\n",
        "def save_model(model: nn.Module, name: str, save_to_drive=True):\n",
        "  # 1. Create models directory\n",
        "  MODEL_PATH = Path('models')\n",
        "  MODEL_PATH.mkdir(parents=True, exist_ok=True)\n",
        "\n",
        "  # 2. Create a model save path\n",
        "  model_save_path = MODEL_PATH / name\n",
        "\n",
        "  DRIVE_PATH = Path('/content/drive')\n",
        "  DRIVE_MODELS_PATH = DRIVE_PATH / Path('MyDrive/pytorch_models/')\n",
        "\n",
        "  print(f'Saving model to {model_save_path}')\n",
        "\n",
        "  torch.save(obj=model.state_dict(), f=model_save_path)\n",
        "\n",
        "  if save_to_drive:\n",
        "    shutil.copy(model_save_path, DRIVE_MODELS_PATH)\n",
        "  #cmd = f'cp {MODEL_SAVE_PATH} {DRIVE_MODELS_PATH}'\n",
        "  #!{cmd}\n",
        "  print(f'saved to {DRIVE_MODELS_PATH / name}')\n",
        "  return (model_save_path)"
      ],
      "metadata": {
        "id": "XY7hrdu9U7Wa"
      },
      "execution_count": null,
      "outputs": []
    },
    {
      "cell_type": "code",
      "source": [
        "# Loading our model\n",
        "\n",
        "# Save the model:\n",
        "(model_save_path) = save_model(model_0, '01_model_0.pth')\n",
        "\n",
        "# Instantiate a new instance of our model class\n",
        "\n",
        "loaded_model_0 = LinearRegressionModel()\n",
        "loaded_model_0.load_state_dict(torch.load(f=model_save_path))\n"
      ],
      "metadata": {
        "colab": {
          "base_uri": "https://localhost:8080/"
        },
        "id": "8nFYP29vVYRu",
        "outputId": "bef651ec-fd59-4cf5-b4fd-dae6bb6be8ca"
      },
      "execution_count": null,
      "outputs": [
        {
          "output_type": "stream",
          "name": "stdout",
          "text": [
            "Saving model to models/01_model_0.pth\n",
            "saved to /content/drive/MyDrive/pytorch_models/01_model_0.pth\n"
          ]
        },
        {
          "output_type": "execute_result",
          "data": {
            "text/plain": [
              "<All keys matched successfully>"
            ]
          },
          "metadata": {},
          "execution_count": 548
        }
      ]
    },
    {
      "cell_type": "code",
      "source": [
        "loaded_model_0.state_dict()"
      ],
      "metadata": {
        "colab": {
          "base_uri": "https://localhost:8080/"
        },
        "id": "KW_tNMsqyVVL",
        "outputId": "87a07939-94e2-4d27-cbe6-0f7ffd663d60"
      },
      "execution_count": null,
      "outputs": [
        {
          "output_type": "execute_result",
          "data": {
            "text/plain": [
              "OrderedDict([('weights', tensor([0.6990])), ('bias', tensor([0.3093]))])"
            ]
          },
          "metadata": {},
          "execution_count": 549
        }
      ]
    },
    {
      "cell_type": "code",
      "source": [
        "# make some predictions with the loaded model\n",
        "\n",
        "loaded_model_0.eval()\n",
        "with torch.inference_mode():\n",
        "  loaded_model_preds = loaded_model_0(X_test)\n",
        "\n",
        "loaded_model_preds"
      ],
      "metadata": {
        "colab": {
          "base_uri": "https://localhost:8080/"
        },
        "id": "ojY56WEXykfk",
        "outputId": "a7ab7308-8bfc-462d-da29-bf9dcdeb3c01"
      },
      "execution_count": null,
      "outputs": [
        {
          "output_type": "execute_result",
          "data": {
            "text/plain": [
              "tensor([[0.8685],\n",
              "        [0.8825],\n",
              "        [0.8965],\n",
              "        [0.9105],\n",
              "        [0.9245],\n",
              "        [0.9384],\n",
              "        [0.9524],\n",
              "        [0.9664],\n",
              "        [0.9804],\n",
              "        [0.9944]])"
            ]
          },
          "metadata": {},
          "execution_count": 550
        }
      ]
    },
    {
      "cell_type": "code",
      "source": [
        "# get some preds from the original model:\n",
        "model_0.eval()\n",
        "with torch.inference_mode():\n",
        "  y_preds = model_0(X_test)\n",
        "\n",
        "# compare loaded model preds with original model preds\n",
        "y_preds == loaded_model_preds\n"
      ],
      "metadata": {
        "colab": {
          "base_uri": "https://localhost:8080/"
        },
        "id": "uIc6NAFTzmbI",
        "outputId": "0dd05ba8-d81b-4724-8dac-ca5ddc223105"
      },
      "execution_count": null,
      "outputs": [
        {
          "output_type": "execute_result",
          "data": {
            "text/plain": [
              "tensor([[True],\n",
              "        [True],\n",
              "        [True],\n",
              "        [True],\n",
              "        [True],\n",
              "        [True],\n",
              "        [True],\n",
              "        [True],\n",
              "        [True],\n",
              "        [True]])"
            ]
          },
          "metadata": {},
          "execution_count": 551
        }
      ]
    },
    {
      "cell_type": "markdown",
      "source": [
        "## 6. Putting it all together\n",
        "\n",
        "Let's go back through the steps above and see it all in one place."
      ],
      "metadata": {
        "id": "1tf41SAlzt1z"
      }
    },
    {
      "cell_type": "code",
      "source": [
        "# Import PyTorch and matplotlib\n",
        "\n",
        "import torch\n",
        "from torch import nn\n",
        "import matplotlib.pyplot as plt\n",
        "import numpy as np\n",
        "\n",
        "# Check PyTorch version\n",
        "torch.__version__\n"
      ],
      "metadata": {
        "colab": {
          "base_uri": "https://localhost:8080/",
          "height": 35
        },
        "id": "37zi7n5lRU5j",
        "outputId": "59f2df78-9615-4641-a948-d68d6c1a7d0f"
      },
      "execution_count": null,
      "outputs": [
        {
          "output_type": "execute_result",
          "data": {
            "text/plain": [
              "'1.13.0+cu116'"
            ],
            "application/vnd.google.colaboratory.intrinsic+json": {
              "type": "string"
            }
          },
          "metadata": {},
          "execution_count": 552
        }
      ]
    },
    {
      "cell_type": "markdown",
      "source": [
        "Create device-agnostic code.\n",
        "\n",
        "This means if we've got access to a GPU our code will use it, otherwise the code will default to using CPU."
      ],
      "metadata": {
        "id": "cb4S7zyUR4kS"
      }
    },
    {
      "cell_type": "code",
      "source": [
        "# Setup device-agnostic code\n",
        "\n",
        "device = \"cuda\" if torch.cuda.is_available() else \"cpu\"\n",
        "print(f\"using device: {device}\")"
      ],
      "metadata": {
        "colab": {
          "base_uri": "https://localhost:8080/"
        },
        "id": "fqyBIB1jR4F8",
        "outputId": "fcfb7ab3-f47d-46c0-f004-2edb0a202ce5"
      },
      "execution_count": null,
      "outputs": [
        {
          "output_type": "stream",
          "name": "stdout",
          "text": [
            "using device: cuda\n"
          ]
        }
      ]
    },
    {
      "cell_type": "markdown",
      "source": [
        "## 6.1 Data\n",
        "\n"
      ],
      "metadata": {
        "id": "3DAUS7i1RF2r"
      }
    },
    {
      "cell_type": "code",
      "source": [
        "# Create some data using the linear regression formula of y = weight * X + bias\n",
        "\n",
        "# using different values from first example\n",
        "weight = 0.8\n",
        "bias = 0.2\n",
        "\n",
        "start = 0\n",
        "end = 1\n",
        "\n",
        "step = 0.02\n",
        "\n",
        "# Create X and y (features and labels)\n",
        "X = torch.arange(start, end, step).unsqueeze(dim = 1)\n",
        "y = weight = X + bias\n",
        "\n",
        "X[:10], y[:10]"
      ],
      "metadata": {
        "colab": {
          "base_uri": "https://localhost:8080/"
        },
        "id": "aNDwzeNQRI94",
        "outputId": "371a35aa-dcac-4adc-eae4-81e52e845f21"
      },
      "execution_count": null,
      "outputs": [
        {
          "output_type": "execute_result",
          "data": {
            "text/plain": [
              "(tensor([[0.0000],\n",
              "         [0.0200],\n",
              "         [0.0400],\n",
              "         [0.0600],\n",
              "         [0.0800],\n",
              "         [0.1000],\n",
              "         [0.1200],\n",
              "         [0.1400],\n",
              "         [0.1600],\n",
              "         [0.1800]]), tensor([[0.2000],\n",
              "         [0.2200],\n",
              "         [0.2400],\n",
              "         [0.2600],\n",
              "         [0.2800],\n",
              "         [0.3000],\n",
              "         [0.3200],\n",
              "         [0.3400],\n",
              "         [0.3600],\n",
              "         [0.3800]]))"
            ]
          },
          "metadata": {},
          "execution_count": 554
        }
      ]
    },
    {
      "cell_type": "code",
      "source": [
        "# Split data\n",
        "train_split = int(0.8 * len(X))\n",
        "X_train, y_train = X[:train_split], y[:train_split]\n",
        "X_test, y_test = X[train_split:], y[train_split:]\n",
        "len(X_train), len(y_train), len(X_test), len(y_test)"
      ],
      "metadata": {
        "colab": {
          "base_uri": "https://localhost:8080/"
        },
        "id": "AxFqsltZZqGP",
        "outputId": "a431dd99-0a38-4f5f-836b-fc4efa522634"
      },
      "execution_count": null,
      "outputs": [
        {
          "output_type": "execute_result",
          "data": {
            "text/plain": [
              "(40, 40, 10, 10)"
            ]
          },
          "metadata": {},
          "execution_count": 555
        }
      ]
    },
    {
      "cell_type": "code",
      "source": [
        "# Plot the data\n",
        "plot_predictions(X_train, y_train, X_test, y_test)"
      ],
      "metadata": {
        "colab": {
          "base_uri": "https://localhost:8080/",
          "height": 428
        },
        "id": "v6WJlj3VaCef",
        "outputId": "6aaac04c-fe2d-471a-e9b4-f3d2daf08827"
      },
      "execution_count": null,
      "outputs": [
        {
          "output_type": "display_data",
          "data": {
            "text/plain": [
              "<Figure size 720x504 with 1 Axes>"
            ],
            "image/png": "[encoded data removed]"
          },
          "metadata": {
            "needs_background": "light"
          }
        }
      ]
    },
    {
      "cell_type": "code",
      "source": [
        "torch.randn(1)"
      ],
      "metadata": {
        "colab": {
          "base_uri": "https://localhost:8080/"
        },
        "id": "LDKkA5VSbKTS",
        "outputId": "74e39cbc-3ba8-4f07-efd9-17cc8b78653a"
      },
      "execution_count": null,
      "outputs": [
        {
          "output_type": "execute_result",
          "data": {
            "text/plain": [
              "tensor([0.2345])"
            ]
          },
          "metadata": {},
          "execution_count": 557
        }
      ]
    },
    {
      "cell_type": "markdown",
      "source": [
        "f## 6.2 Building a PyTorch Linear Model"
      ],
      "metadata": {
        "id": "XZLLTRnvaHLX"
      }
    },
    {
      "cell_type": "code",
      "source": [
        "import torch\n",
        "from torch import nn\n",
        "\n",
        "class MyLinearRegressionModel(nn.Module):\n",
        "  def __init__(self):\n",
        "    super().__init__()\n",
        "    # could do init this way:\n",
        "    # self.m = nn.Parameter(torch.randn(1))\n",
        "    # self.bias = nn.Parameter(torch.randn(1))\n",
        "    # use nn.Linear() instead of creating parameters ourselves.\n",
        "    self.linear_layer = nn.Linear(in_features=1, out_features=1)\n",
        "\n",
        "  def forward(self, x: torch.Tensor) -> torch.Tensor:\n",
        "    # old:\n",
        "    # return self.m * x + self.bias\n",
        "    # new, using the layer:\n",
        "    return self.linear_layer(x)\n",
        "\n",
        "torch.manual_seed(42)\n",
        "model_1 = MyLinearRegressionModel()\n",
        "model_1.state_dict(), list(model_1.parameters())"
      ],
      "metadata": {
        "colab": {
          "base_uri": "https://localhost:8080/"
        },
        "id": "IRHM36Osac7P",
        "outputId": "8bc87698-4a0e-4755-ccdd-f27b7782b451"
      },
      "execution_count": null,
      "outputs": [
        {
          "output_type": "execute_result",
          "data": {
            "text/plain": [
              "(OrderedDict([('linear_layer.weight', tensor([[0.7645]])),\n",
              "              ('linear_layer.bias', tensor([0.8300]))]),\n",
              " [Parameter containing:\n",
              "  tensor([[0.7645]], requires_grad=True), Parameter containing:\n",
              "  tensor([0.8300], requires_grad=True)])"
            ]
          },
          "metadata": {},
          "execution_count": 558
        }
      ]
    },
    {
      "cell_type": "code",
      "source": [
        "with torch.inference_mode():\n",
        "  y_preds1 = model_1(X_test)\n",
        "plot_predictions(predictions=y_preds1)"
      ],
      "metadata": {
        "colab": {
          "base_uri": "https://localhost:8080/",
          "height": 428
        },
        "id": "_h-_5bfXakKv",
        "outputId": "494828e8-0491-4acd-8bda-53ac0393f9d8"
      },
      "execution_count": null,
      "outputs": [
        {
          "output_type": "display_data",
          "data": {
            "text/plain": [
              "<Figure size 720x504 with 1 Axes>"
            ],
            "image/png": "[encoded data removed]"
          },
          "metadata": {
            "needs_background": "light"
          }
        }
      ]
    },
    {
      "cell_type": "code",
      "source": [
        "# Set the model to use the target device\n",
        "initial_device = next(model_1.parameters()).device\n",
        "model_1.to(device) # set to current device\n",
        "current_device = next(model_1.parameters()).device\n",
        "initial_device, current_device\n"
      ],
      "metadata": {
        "colab": {
          "base_uri": "https://localhost:8080/"
        },
        "id": "sn9oiVp4gcHl",
        "outputId": "298808e2-f896-4e0d-8ce6-49519f585c57"
      },
      "execution_count": null,
      "outputs": [
        {
          "output_type": "execute_result",
          "data": {
            "text/plain": [
              "(device(type='cpu'), device(type='cuda', index=0))"
            ]
          },
          "metadata": {},
          "execution_count": 560
        }
      ]
    },
    {
      "cell_type": "markdown",
      "source": [
        "### 6.3 Training\n",
        "\n",
        "For training we need:\n",
        "* Loss function\n",
        "* Optimizer\n",
        "* Training Loop\n",
        "* Testing loop"
      ],
      "metadata": {
        "id": "-ZLg_H-Trg0E"
      }
    },
    {
      "cell_type": "code",
      "source": [
        "# Setup loss function\n",
        "loss_fn = nn.L1Loss() # Same as MAE\n",
        "\n",
        "# setup out optimizer\n",
        "optimizer = torch.optim.SGD(params=model_1.parameters(), lr=0.01)"
      ],
      "metadata": {
        "id": "HR0qKb7GtDiQ"
      },
      "execution_count": null,
      "outputs": []
    },
    {
      "cell_type": "code",
      "source": [
        "# Training loop\n",
        "epochs = 90\n",
        "torch.manual_seed(42)\n",
        "\n",
        "# put all tensors on the target device:\n",
        "X_train = X_train.to(device)\n",
        "y_train = y_train.to(device)\n",
        "X_test = X_test.to(device)\n",
        "y_test = y_test.to(device)\n",
        "\n",
        "for epoch in range(epochs):\n",
        "  model_1.train() # set to training mode\n",
        "\n",
        "  # Forward pass\n",
        "  y_pred = model_1(X_train)\n",
        "\n",
        "  # 2. Calculate loss\n",
        "  loss = loss_fn(y_pred, y_train)\n",
        "\n",
        "  # 3. Optimizer zero grad\n",
        "  optimizer.zero_grad()\n",
        "\n",
        "  # 4. Perform back propagation\n",
        "  loss.backward()\n",
        "\n",
        "  # 5. Optimizer step\n",
        "  optimizer.step()\n",
        "\n",
        "  ### Testing\n",
        "  model_1.eval()\n",
        "  with torch.inference_mode():\n",
        "    test_pred = model_1(X_test)\n",
        "    test_loss = loss_fn(test_pred, y_test)\n",
        "\n",
        "  # Print what's happening\n",
        "  if epoch % 10 == 0:\n",
        "    print(f'Epoch: {epoch} loss: {loss} Test loss {test_loss}')\n",
        "\n",
        "model_1.state_dict()"
      ],
      "metadata": {
        "colab": {
          "base_uri": "https://localhost:8080/"
        },
        "id": "WCodvS-ztcpG",
        "outputId": "8cdc6336-d8a1-40e3-ae0e-ef372874f640"
      },
      "execution_count": null,
      "outputs": [
        {
          "output_type": "stream",
          "name": "stdout",
          "text": [
            "Epoch: 0 loss: 0.5381779670715332 Test loss 0.40697622299194336\n",
            "Epoch: 10 loss: 0.4229681193828583 Test loss 0.2722663879394531\n",
            "Epoch: 20 loss: 0.3077581822872162 Test loss 0.13755656778812408\n",
            "Epoch: 30 loss: 0.19254833459854126 Test loss 0.017818046733736992\n",
            "Epoch: 40 loss: 0.1043078675866127 Test loss 0.10629735141992569\n",
            "Epoch: 50 loss: 0.08409178256988525 Test loss 0.14757494628429413\n",
            "Epoch: 60 loss: 0.07735064625740051 Test loss 0.16171959042549133\n",
            "Epoch: 70 loss: 0.07324770838022232 Test loss 0.16313493251800537\n",
            "Epoch: 80 loss: 0.06971960514783859 Test loss 0.15898369252681732\n"
          ]
        },
        {
          "output_type": "execute_result",
          "data": {
            "text/plain": [
              "OrderedDict([('linear_layer.weight', tensor([[0.6707]], device='cuda:0')),\n",
              "             ('linear_layer.bias', tensor([0.3385], device='cuda:0'))])"
            ]
          },
          "metadata": {},
          "execution_count": 562
        }
      ]
    },
    {
      "cell_type": "code",
      "source": [
        "with torch.inference_mode():\n",
        "  y_preds1 = model_1(X_test)\n",
        "plot_predictions(predictions=y_preds1.cpu())"
      ],
      "metadata": {
        "colab": {
          "base_uri": "https://localhost:8080/",
          "height": 428
        },
        "id": "PwCNbC3zub4f",
        "outputId": "d9416c71-e03f-411b-baca-879d6d36e47a"
      },
      "execution_count": null,
      "outputs": [
        {
          "output_type": "display_data",
          "data": {
            "text/plain": [
              "<Figure size 720x504 with 1 Axes>"
            ],
            "image/png": "[encoded data removed]"
          },
          "metadata": {
            "needs_background": "light"
          }
        }
      ]
    },
    {
      "cell_type": "markdown",
      "source": [
        "# 6.5 Save and load the model"
      ],
      "metadata": {
        "id": "Q6agkVbt6Ckb"
      }
    },
    {
      "cell_type": "code",
      "source": [
        "(saved_model_path) = save_model(model_1, 'my_model.pth')\n",
        "saved_model_path"
      ],
      "metadata": {
        "colab": {
          "base_uri": "https://localhost:8080/"
        },
        "id": "kXvijjSN85gF",
        "outputId": "6da51f67-2602-4086-a5fe-d01bbecdf10e"
      },
      "execution_count": null,
      "outputs": [
        {
          "output_type": "stream",
          "name": "stdout",
          "text": [
            "Saving model to models/my_model.pth\n",
            "saved to /content/drive/MyDrive/pytorch_models/my_model.pth\n"
          ]
        },
        {
          "output_type": "execute_result",
          "data": {
            "text/plain": [
              "PosixPath('models/my_model.pth')"
            ]
          },
          "metadata": {},
          "execution_count": 565
        }
      ]
    },
    {
      "cell_type": "code",
      "source": [
        "model_2 = MyLinearRegressionModel()\n",
        "model_2.load_state_dict(torch.load(f=saved_model_path))\n",
        "model_2.state_dict()"
      ],
      "metadata": {
        "colab": {
          "base_uri": "https://localhost:8080/"
        },
        "id": "xpC-CAhE9BpE",
        "outputId": "5ae2f5bd-cf7d-4d86-d015-9dd0526c61e2"
      },
      "execution_count": null,
      "outputs": [
        {
          "output_type": "execute_result",
          "data": {
            "text/plain": [
              "OrderedDict([('linear_layer.weight', tensor([[0.6707]])),\n",
              "             ('linear_layer.bias', tensor([0.3385]))])"
            ]
          },
          "metadata": {},
          "execution_count": 569
        }
      ]
    },
    {
      "cell_type": "code",
      "source": [
        "model_2.to(device)\n",
        "with torch.inference_mode():\n",
        "  y_preds2 = model_2(X_test)\n",
        "plot_predictions(predictions=y_preds2.cpu())"
      ],
      "metadata": {
        "colab": {
          "base_uri": "https://localhost:8080/",
          "height": 428
        },
        "id": "G-PIkPH49Uux",
        "outputId": "ab3210d1-8492-4e0e-ef39-64b9f3ddf33b"
      },
      "execution_count": null,
      "outputs": [
        {
          "output_type": "display_data",
          "data": {
            "text/plain": [
              "<Figure size 720x504 with 1 Axes>"
            ],
            "image/png": "[encoded data removed]"
          },
          "metadata": {
            "needs_background": "light"
          }
        }
      ]
    },
    {
      "cell_type": "markdown",
      "source": [
        "## Exercises and Extra-curriculum\n",
        "\n",
        "Look in the book, etc.\n",
        "\n",
        "Do the exercises.\n"
      ],
      "metadata": {
        "id": "dPw5Hdtb9usU"
      }
    }
  ]
}